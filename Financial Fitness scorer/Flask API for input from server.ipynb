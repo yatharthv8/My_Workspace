{
 "cells": [
  {
   "cell_type": "code",
   "execution_count": 1,
   "metadata": {},
   "outputs": [],
   "source": [
    "import pandas as pd"
   ]
  },
  {
   "cell_type": "code",
   "execution_count": null,
   "metadata": {},
   "outputs": [
    {
     "name": "stderr",
     "output_type": "stream",
     "text": [
      " * Running on http://localhost:5000/ (Press CTRL+C to quit)\n",
      "127.0.0.1 - - [08/Jan/2021 19:13:00] \"\u001b[33mGET / HTTP/1.1\u001b[0m\" 404 -\n"
     ]
    }
   ],
   "source": [
    "from werkzeug.wrappers import Request, Response\n",
    "from flask import Flask, request #import main Flask class and request object\n",
    "\n",
    "app = Flask(__name__) #create the Flask app\n",
    "\n",
    "@app.route('/api')\n",
    "def api():\n",
    "    data= pd.DataFrame.from_dict(request.args.to_dict(flat = False))#converting server input in dict type\n",
    "#     Very important to note that if taking input from server the input should be in dict data type so that it can be converted to pandas dataframe.\n",
    "#     X_User=data(copy paste the user data code part from other models here to make it work)\n",
    "    return Response(\"FITNESS SCORE\")#for output use lregFS, ANNFS or SVMFS depending on the model used intead of FITNESS SCORE in the bracket\n",
    "\n",
    "if __name__ == '__main__':\n",
    "    from werkzeug.serving import run_simple\n",
    "    run_simple(\"localhost\", 5000, app) #run app in debug mode on port 5000"
   ]
  },
  {
   "cell_type": "code",
   "execution_count": null,
   "metadata": {},
   "outputs": [],
   "source": []
  }
 ],
 "metadata": {
  "kernelspec": {
   "display_name": "Python 3",
   "language": "python",
   "name": "python3"
  },
  "language_info": {
   "codemirror_mode": {
    "name": "ipython",
    "version": 3
   },
   "file_extension": ".py",
   "mimetype": "text/x-python",
   "name": "python",
   "nbconvert_exporter": "python",
   "pygments_lexer": "ipython3",
   "version": "3.5.6"
  }
 },
 "nbformat": 4,
 "nbformat_minor": 4
}
